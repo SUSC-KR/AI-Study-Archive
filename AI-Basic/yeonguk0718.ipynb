{
  "nbformat": 4,
  "nbformat_minor": 0,
  "metadata": {
    "colab": {
      "provenance": []
    },
    "kernelspec": {
      "name": "python3",
      "display_name": "Python 3"
    },
    "language_info": {
      "name": "python"
    }
  },
  "cells": [
    {
      "cell_type": "markdown",
      "source": [
        "# 오늘의 학습\n",
        "\n",
        "## 나의 생각\n",
        "\n",
        "### 너의 생각\n",
        "\n",
        "1. 가나\n",
        "2. 다라\n",
        "3. 마바\n",
        "\n",
        "- 인공지능 어지러워요.\n",
        "- 인공지능\n"
      ],
      "metadata": {
        "id": "VjLTdBM8700B"
      }
    },
    {
      "cell_type": "code",
      "execution_count": 1,
      "metadata": {
        "colab": {
          "base_uri": "https://localhost:8080/"
        },
        "id": "jVB5DRE47s-I",
        "outputId": "cd263f8e-14e4-4e7f-ff15-2abae6a36ff3"
      },
      "outputs": [
        {
          "output_type": "stream",
          "name": "stdout",
          "text": [
            "hello World!!\n"
          ]
        }
      ],
      "source": [
        "print(\"hello World!!\")"
      ]
    },
    {
      "cell_type": "code",
      "source": [],
      "metadata": {
        "id": "zbTQqpg_8IrM"
      },
      "execution_count": null,
      "outputs": []
    }
  ]
}